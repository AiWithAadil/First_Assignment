{
 "cells": [
  {
   "cell_type": "raw",
   "metadata": {},
   "source": [
    "1) A company decided to give bonus of 5% to employee if his/her year of service is more than 5 years.\n",
    "Ask user for their salary and year of service and print the net bonus amount."
   ]
  },
  {
   "cell_type": "code",
   "execution_count": 1,
   "metadata": {},
   "outputs": [
    {
     "name": "stdout",
     "output_type": "stream",
     "text": [
      "congratulations You are eligible for a bonus\n",
      "your bonus amount is 300000\n",
      "your net bonus amount is 360000\n"
     ]
    }
   ],
   "source": [
    "employee_salary = int(input(\"Enter your salary\"))\n",
    "employee_service_years = int(input(\"Enter your service years\"))\n",
    "\n",
    "if employee_service_years > 5:  \n",
    "    bonus = 5 * employee_salary\n",
    "    net_bonus = (bonus + employee_salary )\n",
    "    print(\"congratulations You are eligible for a bonus\")\n",
    "    print(\"your bonus amount is\",bonus )\n",
    "    print(\"your net bonus amount is\",net_bonus )\n",
    "else:\n",
    "     print(\"Sorry you are not eligible for a bonus NEXT TIME.\") "
   ]
  },
  {
   "cell_type": "markdown",
   "metadata": {},
   "source": [
    "\n",
    "2) Write a program to check whether a person is eligible for voting or not. (accept age from user) if age is greater than 17 eligible otherwise not eligible"
   ]
  },
  {
   "cell_type": "code",
   "execution_count": 2,
   "metadata": {},
   "outputs": [
    {
     "name": "stdout",
     "output_type": "stream",
     "text": [
      "You are eligible to vote.\n"
     ]
    }
   ],
   "source": [
    "person_age = int(input(\"Enter your age: \"))\n",
    "\n",
    "if person_age > 17:\n",
    "    print(\"You are eligible to vote.\")\n",
    "else:\n",
    "    print(\"You are not eligible to vote.\")   "
   ]
  },
  {
   "cell_type": "markdown",
   "metadata": {},
   "source": [
    "\n",
    "3) Write a program to check whether a number entered by user is even or odd."
   ]
  },
  {
   "cell_type": "code",
   "execution_count": null,
   "metadata": {},
   "outputs": [
    {
     "name": "stdout",
     "output_type": "stream",
     "text": [
      "This is odd number\n"
     ]
    }
   ],
   "source": [
    "even_odd_num = int(input(\"Enter any number\"))\n",
    "\n",
    "if even_odd_num %2==0:\n",
    "   print(\"This is even number\")\n",
    "else:\n",
    "   print(\"This is odd number\")   "
   ]
  },
  {
   "cell_type": "markdown",
   "metadata": {},
   "source": [
    "4) Write a program to check whether a number is divisible by 7 or not.\n",
    "Show Answer"
   ]
  },
  {
   "cell_type": "code",
   "execution_count": null,
   "metadata": {},
   "outputs": [
    {
     "name": "stdout",
     "output_type": "stream",
     "text": [
      "is not divisible by 7\n"
     ]
    }
   ],
   "source": [
    "number = int(input(\"Enter any number\"))\n",
    "if number %7 == 0:\n",
    "   print(\"it is divisible by 7\")\n",
    "else:\n",
    "   print(\"is not divisible by 7\")\n"
   ]
  },
  {
   "cell_type": "markdown",
   "metadata": {},
   "source": [
    "  5) Write a program to display \"Hello\" if a number entered by user is a multiple of ve , otherwise print \"Bye\""
   ]
  },
  {
   "cell_type": "code",
   "execution_count": null,
   "metadata": {},
   "outputs": [
    {
     "name": "stdout",
     "output_type": "stream",
     "text": [
      "Hellow\n"
     ]
    }
   ],
   "source": [
    "number = int(input(\"Enter one digit number\"))\n",
    "\n",
    "if number %5 ==0:\n",
    "   print(\"Hello\")\n",
    "else:\n",
    "   print(\"Bye\")"
   ]
  },
  {
   "cell_type": "raw",
   "metadata": {},
   "source": [
    "7) Write a program to display the last digit of a number.\n"
   ]
  },
  {
   "cell_type": "code",
   "execution_count": 1,
   "metadata": {},
   "outputs": [
    {
     "name": "stdout",
     "output_type": "stream",
     "text": [
      "enter any number45\n",
      "The last digit of 45 is: 5\n"
     ]
    }
   ],
   "source": [
    "Number = int(input(\"enter any number\"))\n",
    "last_digit = Number % 10\n",
    "\n",
    "print(\"The last digit of\", Number, \"is:\", last_digit)"
   ]
  },
  {
   "cell_type": "raw",
   "metadata": {},
   "source": [
    "Q8. Write a program to check whether the last digit of a number( entered by user ) is \n",
    "divisible by 3 or not."
   ]
  },
  {
   "cell_type": "code",
   "execution_count": 2,
   "metadata": {},
   "outputs": [
    {
     "name": "stdout",
     "output_type": "stream",
     "text": [
      "Enter number55\n",
      "This 5 number is not divisible by 3\n"
     ]
    }
   ],
   "source": [
    "Num = int(input(\"Enter any number\"))\n",
    "last_digit = Num % 10\n",
    "\n",
    "if last_digit%3==0:\n",
    "    print(\"This\", last_digit ,\"number is divisible by 3\")\n",
    "else:\n",
    "    print(\"This\", last_digit , \"number is not divisible by 3\")"
   ]
  },
  {
   "cell_type": "raw",
   "metadata": {},
   "source": [
    "9) Take values of length and breadth of a rectangle from user and print if it is square or rectangle."
   ]
  },
  {
   "cell_type": "code",
   "execution_count": 3,
   "metadata": {},
   "outputs": [
    {
     "name": "stdout",
     "output_type": "stream",
     "text": [
      "Enter the lenght of rectangle:44\n",
      "Enter the breadth of rectangle:55\n",
      "It is a rectangle.\n"
     ]
    }
   ],
   "source": [
    "lenght = float(input(\"Enter the lenght of rectangle:\"))\n",
    "breadth = float(input(\"Enter the breadth of rectangle:\"))\n",
    "if lenght ==breadth:\n",
    "    print(\"It is a square.\")\n",
    "else:\n",
    "    print(\"It is a rectangle.\")\n"
   ]
  },
  {
   "cell_type": "raw",
   "metadata": {},
   "source": [
    "10) Take two int values from user and print greatest among them."
   ]
  },
  {
   "cell_type": "code",
   "execution_count": 4,
   "metadata": {},
   "outputs": [
    {
     "name": "stdout",
     "output_type": "stream",
     "text": [
      "Enter any value4\n",
      "Enter any value6\n",
      "this number2 6 is greatest\n"
     ]
    }
   ],
   "source": [
    "number1 = int(input(\"Enter any value\"))\n",
    "number2 = int(input(\"Enter any value\"))\n",
    "\n",
    "if number1 >= number2:\n",
    "    print(\"this number1\",number1,\"is greatest\")\n",
    "elif number2 >= number1:\n",
    "    print(\"this number2\",number2,\"is greatest\")\n"
   ]
  },
  {
   "cell_type": "raw",
   "metadata": {},
   "source": [
    "11) A shop will give discount of 10% if the cost of purchased quantity is more than 1000.\n",
    "Ask user for quantity\n",
    "Suppose, one unit will cost 100.\n",
    "Judge and print total cost for user."
   ]
  },
  {
   "cell_type": "code",
   "execution_count": 5,
   "metadata": {},
   "outputs": [
    {
     "name": "stdout",
     "output_type": "stream",
     "text": [
      "Enter quantity17\n",
      "your quantity is 1700 And you get 10% discount: 1530.0\n"
     ]
    }
   ],
   "source": [
    "quantity = int(input(\"Enter quantity\"))\n",
    "unit = (quantity * 100)\n",
    "discount = 0.10 * unit\n",
    "total_cost = (unit - discount)\n",
    "\n",
    "if unit >1000:\n",
    "    total_cost = (unit - discount)\n",
    "    print(\"your quantity is\",unit,\"And you get 10% discount:\",total_cost)\n",
    "else:\n",
    "    print(\"your quantity is\",unit,\"And you get 0% discount:\",unit)"
   ]
  },
  {
   "cell_type": "raw",
   "metadata": {},
   "source": [
    "12) A school has following rules for grading system:\n",
    "\n",
    "a. Below 25 - F\n",
    "\n",
    "b. 25 to 45 - E\n",
    "\n",
    "c. 45 to 50 - D\n",
    "\n",
    "d. 50 to 60 - C\n",
    "\n",
    "e. 60 to 80 - B\n",
    "\n",
    "f. Above 80 - A\n",
    "\n",
    "Ask user to enter marks and print the corresponding grade."
   ]
  },
  {
   "cell_type": "code",
   "execution_count": 6,
   "metadata": {},
   "outputs": [
    {
     "name": "stdout",
     "output_type": "stream",
     "text": [
      "Enter your marks77\n",
      "Your Grade is B\n"
     ]
    }
   ],
   "source": [
    "marks = float(input(\"Enter your marks\"))\n",
    "\n",
    "if marks <25:\n",
    "    print(\"Your Grade is F\")\n",
    "elif marks >=25 and marks <45:\n",
    "     print(\"Your Grade is E\")\n",
    "elif marks >=45 and marks <50:\n",
    "      print(\"Your Grade is D\")\n",
    "elif marks >=50 and marks <60:\n",
    "     print(\"Your Grade is C\")\n",
    "elif marks >=60 and marks <80:\n",
    "     print(\"Your Grade is B\")\n",
    "elif marks >80:\n",
    "     print(\"Your Grade is A\")         "
   ]
  },
  {
   "cell_type": "raw",
   "metadata": {},
   "source": [
    "14)A student will not be allowed to sit in exam if his/her attendence is less than 75%.\n",
    "\n",
    "Take following input from user\n",
    "\n",
    "Number of classes held\n",
    "\n",
    "Number of classes attended.\n",
    "\n",
    "And print\n",
    "\n",
    "percentage of class attended\n",
    "\n",
    "Is student is allowed to sit in exam or not.\n"
   ]
  },
  {
   "cell_type": "code",
   "execution_count": 8,
   "metadata": {},
   "outputs": [
    {
     "name": "stdout",
     "output_type": "stream",
     "text": [
      "Enter Number of class held80\n",
      "Enter Number of class attended70\n",
      "87.5 %\n",
      "This student is allowed to sit in exam\n"
     ]
    }
   ],
   "source": [
    "Number_of_class_held = int(input(\"Enter Number of class held\"))\n",
    "Number_of_class_attended = int(input(\"Enter Number of class attended\"))\n",
    "percentage_of_class_attended = (Number_of_class_attended / Number_of_class_held)\n",
    "pah = (percentage_of_class_attended * 100)\n",
    "\n",
    "print(pah,\"%\")\n",
    "\n",
    "if pah>=75:\n",
    "   print(\"This student is allowed to sit in exam\")\n",
    "else:\n",
    "   print(\"This student is not allowed to sit in exam\")       "
   ]
  },
  {
   "cell_type": "raw",
   "metadata": {},
   "source": [
    "15) Modify the above question to allow student to sit if he/she has medical cause. Ask user if he/she has medical cause or not ( 'Y' or 'N' ) and print accordingly."
   ]
  },
  {
   "cell_type": "code",
   "execution_count": 9,
   "metadata": {},
   "outputs": [
    {
     "name": "stdout",
     "output_type": "stream",
     "text": [
      "if you have medical cause or not Enter 'y' for yes 'n' for no: n\n",
      "you are not sit in medical cause\n"
     ]
    }
   ],
   "source": [
    "medical = input(\"if you have medical cause or not Enter 'y' for yes 'n' for no: \")\n",
    "\n",
    "if medical == \"y\":\n",
    "    print(\"you are sit in medical cause\")\n",
    "else:\n",
    "    print(\"you are not sit in medical cause\")"
   ]
  },
  {
   "cell_type": "raw",
   "metadata": {},
   "source": [
    "16) Write a program to check if a year is leap year or not.\n",
    "\n",
    "If a year is divisible by 4 then it is leap year but if the year is century year like 2000, 1900, 2100 then it must be divisible by 400."
   ]
  },
  {
   "cell_type": "code",
   "execution_count": 66,
   "metadata": {},
   "outputs": [
    {
     "name": "stdout",
     "output_type": "stream",
     "text": [
      "Enter your fav year1600\n",
      "1600 it is leap year\n"
     ]
    }
   ],
   "source": [
    "year = int(input(\"Enter your fav year\"))\n",
    "\n",
    "if year % 4 == 0 and year % 100 != 0 or year % 400 == 0:\n",
    "    print(year,\"it is leap year\")\n",
    "else:\n",
    "    print(year,\"it is not leap year\")"
   ]
  },
  {
   "cell_type": "raw",
   "metadata": {},
   "source": [
    "17) Ask user to enter age, gender ( M or F ), marital status ( Y or N ) and then using following rules print their place of service.\n",
    "\n",
    "if employee is female, then she will work only in urban areas.\n",
    "\n",
    "if employee is a male and age is in between 20 to 40 then he may work in anywhere\n",
    "\n",
    "if employee is male and age is in between 40 t0 60 then he will work in urban areas only.\n",
    "\n",
    "And any other input of age should print \"ERROR\""
   ]
  },
  {
   "cell_type": "code",
   "execution_count": null,
   "metadata": {},
   "outputs": [],
   "source": [
    "age = int(input(\"Enter your age\"))\n",
    "gender = input(\"Enter your gender write 'M' or 'F'\")\n",
    "marital_status = input(\"Enter your marital status write 'Y' or 'N'\")\n",
    "\n",
    "if gender == \"F\":\n",
    "    print(\"she will work only in urban areas\")\n",
    "elif gender == \"M\" and age >=20 and age <=40:\n",
    "    print(\"he may work in anywhere\")\n",
    "elif gender == \"M\" and age >40 and age <=60:\n",
    "    print(\"he will work in urban areas only\")\n",
    "elif age <20 and age >60:\n",
    "    print(\"?\")"
   ]
  },
  {
   "cell_type": "raw",
   "metadata": {},
   "source": [
    "6) Write a program to calculate the electricity bill (accept number of unit from user) according to the following criteria :\n",
    "     Unit                                                     Price  \n",
    "uptp 100 units                                             no charge\n",
    "Next 200 units                                              Rs 5 per unit\n",
    "After 200 units                                             Rs 10 per unit\n",
    "(For example if input unit is 350 than total bill amount is Rs.3500\n",
    "(For example if input unit is 97 than total bill amount is Rs.0\n",
    "(For example if input unit is 150 than total bill amount is Rs.750"
   ]
  },
  {
   "cell_type": "code",
   "execution_count": 10,
   "metadata": {},
   "outputs": [
    {
     "name": "stdout",
     "output_type": "stream",
     "text": [
      "Enter your electricity bill unit: 360\n",
      "your electricity bill is  3600.0 Rs 10 per unit\n"
     ]
    }
   ],
   "source": [
    "Bill = float(input(\"Enter your electricity bill unit: \"))\n",
    "units200 = (Bill * 5)\n",
    "units_AB_200 = (Bill * 10)\n",
    "\n",
    "if Bill <=100:\n",
    "    print(\"no charge free electricity \")\n",
    "elif Bill >100 and Bill <200 :\n",
    "    print(\"your electricity bill is \",units200,\"Rs 5 per unit\")\n",
    "elif Bill >=200:\n",
    "    print(\"your electricity bill is \",units_AB_200,\"Rs 10 per unit\")\n"
   ]
  },
  {
   "cell_type": "raw",
   "metadata": {},
   "source": [
    "13) Take input of age of 3 people by user and determine oldest and youngest among them."
   ]
  },
  {
   "cell_type": "code",
   "execution_count": 11,
   "metadata": {},
   "outputs": [
    {
     "name": "stdout",
     "output_type": "stream",
     "text": [
      "Enter age of person 1: 55\n",
      "Enter age of person 2: 99\n",
      "Enter age of person 3: 160\n",
      "Person3 160 is greatest\n"
     ]
    }
   ],
   "source": [
    "person1 = int(input(\"Enter age of person 1: \"))\n",
    "person2 = int(input(\"Enter age of person 2: \"))\n",
    "person3 = int(input(\"Enter age of person 3: \"))\n",
    "\n",
    "if person1 >=person2 and person1 >=person3:\n",
    "    print(\"Person1\",person1,\"is greatest\")\n",
    "elif person2 >=person1 and person2 >=person3:\n",
    "     print(\"Person2\",person2,\"is greatest\")\n",
    "elif person3 >=person1 and person3 >=person2:\n",
    "     print(\"Person3\",person3,\"is greatest\")"
   ]
  },
  {
   "cell_type": "code",
   "execution_count": null,
   "metadata": {},
   "outputs": [],
   "source": []
  }
 ],
 "metadata": {
  "kernelspec": {
   "display_name": "Python 3 (ipykernel)",
   "language": "python",
   "name": "python3"
  },
  "language_info": {
   "codemirror_mode": {
    "name": "ipython",
    "version": 3
   },
   "file_extension": ".py",
   "mimetype": "text/x-python",
   "name": "python",
   "nbconvert_exporter": "python",
   "pygments_lexer": "ipython3",
   "version": "3.11.5"
  }
 },
 "nbformat": 4,
 "nbformat_minor": 2
}
